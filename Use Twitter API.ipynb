{
 "cells": [
  {
   "cell_type": "markdown",
   "metadata": {},
   "source": [
    "# How to extract tweets from Twitter\n",
    "\n",
    "Following is the Python code to extract tweets (using Twitter API, tweepy) with a specific keyword and save it as a CSV (Comma-Separated Value) file."
   ]
  },
  {
   "cell_type": "code",
   "execution_count": null,
   "metadata": {
    "collapsed": true
   },
   "outputs": [],
   "source": [
    "import tweepy\n",
    "import csv \n",
    "import time"
   ]
  },
  {
   "cell_type": "markdown",
   "metadata": {},
   "source": [
    "You need to create an access token with a Twitter account. Then take the following 4 Values from OAuth setting: \n",
    "- consumer key\n",
    "- consumer secret\n",
    "- key\n",
    "- secret"
   ]
  },
  {
   "cell_type": "code",
   "execution_count": null,
   "metadata": {
    "collapsed": true
   },
   "outputs": [],
   "source": [
    "consumer_key = 'ConsumerKeyString'\n",
    "consumer_secret = 'ConsumerSecretString'\n",
    "auth = tweepy.auth.OAuthHandler(consumer_key, consumer_secret, callback=None)\n",
    "\n",
    "key = 'KeyString'\n",
    "secret = 'SecretString'\n",
    "auth.set_access_token(key, secret)\n",
    "\n",
    "api = tweepy.API(auth)\n",
    "csvFile = open('collectedTweets.csv','w', newline='')\n",
    "csvWriter = csv.writer(csvFile)\n",
    "\n",
    "c = tweepy.Cursor(api.search, \n",
    "                  q='keyword',\n",
    "                  since='2017-05-01', \n",
    "                  until='2017-05-10', \n",
    "                  lang='en').items()"
   ]
  },
  {
   "cell_type": "markdown",
   "metadata": {},
   "source": [
    "Twitter API has some restirictions for data collection on keyword search. The free keyword search is limited to 10 previous days, and getting access to the older tweets costs money. Moreover, the Twitter API has a limitation of 180 request within a 15 minutes interval per authenticated user. So, I use a 15-min sleep thread in my code."
   ]
  },
  {
   "cell_type": "code",
   "execution_count": null,
   "metadata": {
    "collapsed": true
   },
   "outputs": [],
   "source": [
    "while True:\n",
    "    try:\n",
    "        tweet = c.next()\n",
    "        if ((not tweet.retweeted) and ('RT @' not in tweet.text)):\n",
    "            csvWriter.writerow([tweet.created_at, \n",
    "                                tweet.retweet_count, \n",
    "                                tweet.user.screen_name, \n",
    "                                tweet.user.followers_count,\n",
    "                                tweet.user.location.encode('utf-8'), \n",
    "                                tweet.text.encode('utf-8')])\n",
    "    except tweepy.TweepError:\n",
    "        print('Goes to sleep!')\n",
    "        time.sleep(60*15)\n",
    "        print('Woke up!')\n",
    "        continue\n",
    "    except StopIteration:\n",
    "        print('Done!')\n",
    "        break\n",
    "\n",
    "csvFile.close()"
   ]
  }
 ],
 "metadata": {
  "kernelspec": {
   "display_name": "Python 3",
   "language": "python",
   "name": "python3"
  },
  "language_info": {
   "codemirror_mode": {
    "name": "ipython",
    "version": 3
   },
   "file_extension": ".py",
   "mimetype": "text/x-python",
   "name": "python",
   "nbconvert_exporter": "python",
   "pygments_lexer": "ipython3",
   "version": "3.6.1"
  }
 },
 "nbformat": 4,
 "nbformat_minor": 2
}
